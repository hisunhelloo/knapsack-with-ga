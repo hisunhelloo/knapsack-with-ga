{
 "cells": [
  {
   "cell_type": "code",
   "execution_count": 7,
   "metadata": {},
   "outputs": [
    {
     "name": "stdout",
     "output_type": "stream",
     "text": [
      "[3, 4, 5, 6, 7, 1]\n"
     ]
    }
   ],
   "source": [
    "def add(arr):\n",
    "    arr.append(1)\n",
    "    arr.pop(0)\n",
    "    return \n",
    "ar1 = [2,3,4,5,6,7]\n",
    "add(ar1)\n",
    "print(ar1)"
   ]
  },
  {
   "cell_type": "code",
   "execution_count": 3,
   "metadata": {},
   "outputs": [
    {
     "name": "stdout",
     "output_type": "stream",
     "text": [
      "길이가 4인 이진 수열:\n",
      "[0, 0, 0, 0]\n",
      "[1, 0, 0, 0]\n",
      "[0, 1, 0, 0]\n",
      "[1, 1, 0, 0]\n",
      "[0, 0, 1, 0]\n",
      "[1, 0, 1, 0]\n",
      "[0, 1, 1, 0]\n",
      "[1, 1, 1, 0]\n",
      "[0, 0, 0, 1]\n",
      "[1, 0, 0, 1]\n",
      "[0, 1, 0, 1]\n",
      "[1, 1, 0, 1]\n",
      "[0, 0, 1, 1]\n",
      "[1, 0, 1, 1]\n",
      "[0, 1, 1, 1]\n",
      "[1, 1, 1, 1]\n"
     ]
    }
   ],
   "source": [
    "def generate_binary_sequences(length):\n",
    "    sequences = []\n",
    "    # 모든 이진 수열을 생성\n",
    "    for i in range(2 ** length):\n",
    "        sequence = []\n",
    "        # 이진수로 변환하여 배열에 저장\n",
    "        for j in range(length):\n",
    "            sequence.append((i >> j) & 1)\n",
    "        sequences.append(sequence)\n",
    "    return sequences\n",
    "\n",
    "# 길이가 4인 이진 수열 생성\n",
    "binary_sequences = generate_binary_sequences(4)\n",
    "\n",
    "print(\"길이가 4인 이진 수열:\")\n",
    "for sequence in binary_sequences:\n",
    "    print(sequence)"
   ]
  },
  {
   "cell_type": "code",
   "execution_count": 5,
   "metadata": {},
   "outputs": [
    {
     "name": "stdout",
     "output_type": "stream",
     "text": [
      "9\n"
     ]
    }
   ],
   "source": []
  }
 ],
 "metadata": {
  "kernelspec": {
   "display_name": "myenv",
   "language": "python",
   "name": "python3"
  },
  "language_info": {
   "codemirror_mode": {
    "name": "ipython",
    "version": 3
   },
   "file_extension": ".py",
   "mimetype": "text/x-python",
   "name": "python",
   "nbconvert_exporter": "python",
   "pygments_lexer": "ipython3",
   "version": "3.8.17"
  }
 },
 "nbformat": 4,
 "nbformat_minor": 2
}
