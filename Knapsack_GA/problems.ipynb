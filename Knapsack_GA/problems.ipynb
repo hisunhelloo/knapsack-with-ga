{
 "cells": [
  {
   "cell_type": "code",
   "execution_count": 1,
   "metadata": {},
   "outputs": [],
   "source": [
    "import random"
   ]
  },
  {
   "cell_type": "code",
   "execution_count": 15,
   "metadata": {},
   "outputs": [
    {
     "name": "stdout",
     "output_type": "stream",
     "text": [
      "16\n",
      "43764\n",
      "[29414, 18678, 5395, 21245, 10592, 16794, 36319, 22563, 20695, 29180, 1544, 38617, 29963, 23488, 19668, 21321]\n",
      "[16, 245, 357, 978, 968, 769, 385, 268, 855, 751, 349, 675, 814, 576, 465, 838]\n"
     ]
    }
   ],
   "source": [
    "num = random.randint(10, 100)\n",
    "capacity = random.randint(10, 100000)\n",
    "weight = [random.randint(1, capacity) for _ in range(num)]\n",
    "value = [random.randint(1, 1000) for _ in range(num)]\n",
    "print(num, capacity, weight, value, sep = \"\\n\")\n",
    "# x = [0 0 1 1 1 0 0 0 0 0 1 0 0 0 0 0];"
   ]
  },
  {
   "cell_type": "code",
   "execution_count": 51,
   "metadata": {},
   "outputs": [
    {
     "name": "stdout",
     "output_type": "stream",
     "text": [
      "11\n",
      "24903\n",
      "[6635, 4259, 3447, 8319, 9747, 7377, 9906, 22626, 8344, 642, 6428]\n",
      "[405, 480, 540, 645, 891, 52, 806, 363, 301, 662, 151]\n"
     ]
    },
    {
     "ename": "",
     "evalue": "",
     "output_type": "error",
     "traceback": [
      "\u001b[1;31mThe Kernel crashed while executing code in the current cell or a previous cell. \n",
      "\u001b[1;31mPlease review the code in the cell(s) to identify a possible cause of the failure. \n",
      "\u001b[1;31mClick <a href='https://aka.ms/vscodeJupyterKernelCrash'>here</a> for more info. \n",
      "\u001b[1;31mView Jupyter <a href='command:jupyter.viewOutput'>log</a> for further details."
     ]
    }
   ],
   "source": [
    "num = random.randint(10, 100)\n",
    "capacity = random.randint(10, 100000)\n",
    "weight = [random.randint(1, capacity) for _ in range(num)]\n",
    "value = [random.randint(1, 1000) for _ in range(num)]\n",
    "print(num, capacity, weight, value, sep = \"\\n\")"
   ]
  },
  {
   "cell_type": "code",
   "execution_count": null,
   "metadata": {},
   "outputs": [],
   "source": [
    "## 1\n",
    "# capacity = 43764\n",
    "# n = 16\n",
    "# wwights = [29414, 18678, 5395, 21245, 10592, 16794, 36319, 22563, 20695, 29180, 1544, 38617, 29963, 23488, 19668, 21321]\n",
    "# value = [16, 245, 357, 978, 968, 769, 385, 268, 855, 751, 349, 675, 814, 576, 465, 838]\n",
    "# opt = [0 0 1 1 1 0 0 0 0 0 1 0 0 0 0 0]\n",
    "\n",
    "## 2\n",
    "# capacity = 45791\n",
    "# n = 32\n",
    "# weights = [14736, 31595, 10378, 17419, 9549, 16914, 23233, 35961, 10996, 27795, 30962, 27376, 23047, 8964, 26017, 43849, 20342, 41766, 21337, 31406, 44281, 30429, 41708, 34728, 36893, 43827, 10974, 35384, 3527, 34675, 27198, 11321]\n",
    "# value = [53, 15, 547, 575, 58, 366, 295, 248, 917, 645, 803, 918, 699, 640, 744, 632, 488, 410, 758, 99, 596, 239, 915, 665, 692, 615, 273, 793, 580, 238, 792, 788]\n",
    "# opt = [0 0 1 0 0 0 0 0 1 0 0 0 0 1 0 0 0 0 0 0 0 0 0 0 0 0 0 0 1 0 0 1]\n",
    "\n",
    "## 3 \n",
    "# capacity = 75269\n",
    "# n = 88\n",
    "# weights = [11230, 59922, 1071, 54261, 59343, 28395, 5857, 35620, 62976, 13317, 52736, 39875, 74368, 57180, 16213, 21741, 41376, 53200, 65561, 973, 6333, 75018, 46838, 48325, 47095, 44755, 52907, 31454, 16120, 53325, 45309, 32464, 34619, 70564, 10425, 39102, 35938, 42821, 6020, 47419, 52098, 56124, 40794, 5468, 63531, 66952, 22704, 31312, 41877, 47295, 58161, 47685, 62458, 42769, 35828, 34311, 22660, 3882, 70823, 62527, 1715, 68550, 51858, 38173, 56473, 24306, 66150, 22975, 58291, 60158, 72711, 37609, 42926, 2418, 26318, 7321, 71211, 49769, 30476, 70999, 33469, 29319, 46624, 58823, 20812, 14204, 61919, 54030]\n",
    "# value = [828, 362, 218, 734, 918, 85, 181, 83, 853, 447, 956, 702, 359, 362, 15, 253, 836, 331, 914, 930, 349, 632, 164, 102, 7, 502, 352, 103, 593, 780, 49, 680, 702, 46, 503, 243, 332, 744, 934, 436, 220, 998, 720, 387, 170, 623, 803, 299, 495, 299, 100, 278, 922, 970, 498, 99, 907, 451, 274, 261, 19, 498, 478, 930, 151, 195, 646, 345, 306, 9, 807, 854, 42, 389, 209, 128, 55, 186, 542, 765, 912, 356, 760, 978, 266, 250, 447, 147]\n",
    "# opt = x = [1\n",
    "#          0 1 0 0 0 0 0 0 0 0 0 0 0 0 0 0 0 0 1 1 0 0 0 0 0 0 0 0 0 0 0 0 0\n",
    "#          1 0 0 0 1 0 0 0 0 1 0 0 0 0 0 0 0 0 0 0 0 0 1 1 0 0 1 0 0 0 0 0 0\n",
    "#          0 0 0 0 0 0 1 0 0 0 0 0 0 0 0 0 0 0 0 0 0]\n",
    "\n",
    "\n",
    "## 4\n",
    "# capacity = 24903\n",
    "# n = 11\n",
    "# weights = [6635, 4259, 3447, 8319, 9747, 7377, 9906, 22626, 8344, 642, 6428]\n",
    "# value = [405, 480, 540, 645, 891, 52, 806, 363, 301, 662, 151]\n",
    "# opt = [1 1 1 0 1 0 0 0 0 1 0]\n",
    "\n",
    "\n",
    "## 5\n",
    "# Capacity = \n",
    "# n = \n",
    "# w = \n",
    "# p = \n",
    "# opt = \n"
   ]
  }
 ],
 "metadata": {
  "kernelspec": {
   "display_name": "myenv",
   "language": "python",
   "name": "python3"
  },
  "language_info": {
   "codemirror_mode": {
    "name": "ipython",
    "version": 3
   },
   "file_extension": ".py",
   "mimetype": "text/x-python",
   "name": "python",
   "nbconvert_exporter": "python",
   "pygments_lexer": "ipython3",
   "version": "3.8.17"
  }
 },
 "nbformat": 4,
 "nbformat_minor": 2
}
